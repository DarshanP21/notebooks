{
 "cells": [
  {
   "cell_type": "markdown",
   "metadata": {},
   "source": [
    "# Lab 1:  Introduction to Jupyter and Symbolic Math"
   ]
  },
  {
   "cell_type": "markdown",
   "metadata": {},
   "source": [
    "## Background\n",
    "\n",
    "This course includes a set of computer laboratories that explore topics related to signals and systems.  These will be made available to you as the course progresses, and you are expected to engage with the content and produce and submit a set of results related to some defined tasks. Assistance will be provided if required, but it is really expected that you'll work in your own time and at your own pace: it's important right from the start for you to take responsibility for your own learning. You shouldn't be working in groups, but helping one another out on specific issues is fine.\n",
    "\n",
    "The computer labs are based on the Python programming language, and they require a kernel that includes all the standard numerical libraries. The labs have been created as worksheets using the *Jupyter Notebook* system, which works in a browser and allows you to interleave text and Python code snippets that can be run interactively. Jupyter can be installed via a package called *Anaconda* - see the Orientation \"Labs\" lesson on Vula for details.\n",
    "\n",
    "This first lab covers the introduction to Jupyter as well as specific scientific libraries such as NumPy, SymPy and Matplotlib. These packages are instrumental for data visualisation using Python, and will be used throughout the three labs for this course."
   ]
  },
  {
   "cell_type": "markdown",
   "metadata": {},
   "source": [
    "### Basic Jupyter usage\n",
    "\n",
    "A notebook is basically composed of cells.  A cell can contain text (\"markdown\") or code - in this case, Python.  For any cell you can select the content type using the pulldown on the menubar.  A cell can be executed by pressing shift-enter while it is in focus.\n",
    "\n",
    "Below is a cell that creates two \"numpy\" arrays. The values in `x` (i.e. function `x(t)`) are initialised to be a particular function of `t` (i.e. your time variable).  Select it and press shift-enter to run the code in the Python kernel attached to the notebook.  Change the number of points in `t` and press shift-enter again to run, and note the change in output values."
   ]
  },
  {
   "cell_type": "code",
   "execution_count": 1,
   "metadata": {
    "ExecuteTime": {
     "end_time": "2025-07-31T09:28:58.813383Z",
     "start_time": "2025-07-31T09:28:58.656020Z"
    }
   },
   "outputs": [
    {
     "name": "stdout",
     "output_type": "stream",
     "text": [
      "[-1.         -0.32020923  1.10014808  2.09278512  2.24005852  2.3396668\n",
      "  3.51707674  5.97325259  8.76104957 10.83907153]\n"
     ]
    }
   ],
   "source": [
    "import numpy as np # Import numpy for vector computations\n",
    "\n",
    "t = np.linspace(0, 10, 10); # Create a time variable from t = 0 to t = 10 with 10 points in this range\n",
    "x = 0.1*t**2 - np.cos(t); # Create x variable as a function of t\n",
    "print(x); # Print values of x at the 10 defined points of t"
   ]
  },
  {
   "cell_type": "markdown",
   "metadata": {},
   "source": [
    "The Python kernel is fully-featured for numeric computation, and includes most of the packages useful for scientific computing.  The following code plots the vectors defined above using \"matplotlib\".  The `%matplotlib notebook` line makes any plots appear in the notebook itself rather than in a separate window."
   ]
  },
  {
   "cell_type": "code",
   "execution_count": 6,
   "metadata": {},
   "outputs": [],
   "source": [
    "import matplotlib.pyplot as plt # Import matplotlib for plotting\n",
    "%matplotlib inline"
   ]
  },
  {
   "cell_type": "code",
   "execution_count": 5,
   "metadata": {
    "ExecuteTime": {
     "end_time": "2025-07-31T09:35:30.075378Z",
     "start_time": "2025-07-31T09:35:30.027780Z"
    }
   },
   "outputs": [
    {
     "data": {
      "image/png": "[encoded data removed]",
      "text/plain": [
       "<Figure size 384x288 with 1 Axes>"
      ]
     },
     "metadata": {},
     "output_type": "display_data"
    }
   ],
   "source": [
    "\n",
    "\n",
    "plt.rcParams['figure.dpi'] = 60; # Decrease plot size\n",
    "plt.plot(t, x, 'ro-') # Plot x vs t using red, circular dots connected by lines\n",
    "plt.xlabel('t');  plt.ylabel('x(t)'); # Labels for axes\n",
    "plt.show()"
   ]
  },
  {
   "cell_type": "markdown",
   "metadata": {},
   "source": [
    "When you execute the code above it runs it in the Python kernel for the notebook, which already has the variables `t` and `x` defined.  This can cause problems:  if you jump around the notebook running cells in some arbitrary order then the kernel will probably end up in a weird state.  If this happens then you can use the menu item \"Cell\" -> \"Run All\" to re-execute all cells in the notebook in order.  If things really go wrong then restart the kernel.\n",
    "\n",
    "Executing a text or markdown cell has a different effect:  the content is converted and rendered as rich text.  The markdown language is documented all over the internet, and supports both HTML and LaTeX equations.  Do a web search if you want details or introductions to these topics."
   ]
  },
  {
   "cell_type": "markdown",
   "metadata": {},
   "source": [
    "### Gaining familiarity\n",
    "\n",
    "One of the nice things about Python is that there's an active community of technical people that provide useful information and resources.  If you don't know how to do something, then a simple web search can quickly help. There are also some \"Cheat Sheets\" available on Vula if you're feeling rusty with your Python.\n",
    "\n",
    "There's a basic numerical Python tutorial at `http://cs231n.github.io/python-numpy-tutorial`, and a Python notebook version at:\n",
    "`https://github.com/kuleshov/cs228-material/blob/master/tutorials/python/cs228-python-tutorial.ipynb`.\n",
    "A copy of this notebook that has been updated for Python 3 is included in the \"examples\" directory of your \"notebooks\" folder. Load this notebook and work through the cells.  Make changes to the contents, and press \"shift-enter\" to run and see the corresponding outputs. Pay particular attention to how to use numpy arrays, and how to plot using matplotlib.\n",
    "\n",
    "You can also access function help in Jupyter notebook. You can access help windows for functions by placing a `?` before a function, e.g. `#?plt.plot()`."
   ]
  },
  {
   "cell_type": "markdown",
   "metadata": {},
   "source": [
    "## Symbolic math introduction\n",
    "\n",
    "Now that we've covered the basics, we can move onto something more useful: symbolic mathematics. This is a maturing technology that lets a computer do maths using symbolic manipulation rather than numerical computation. Python has support for symbolic computation via the \"sympy\" package. Some good examples of sympy in use are at `http://www.cfm.brown.edu/people/dobrush/am33/SymPy/index.html` and `https://github.com/sympy/sympy/wiki/Quick-examples`."
   ]
  },
  {
   "cell_type": "markdown",
   "metadata": {},
   "source": [
    "### Basic differentiation\n",
    "\n",
    "The cell below imports the symbolic math package, and defines two symbolic variables `x` and `y`.  A symbolic function $f(x,y) = (x^2-2x+3)/y$ is then defined and printed."
   ]
  },
  {
   "cell_type": "code",
   "execution_count": 7,
   "metadata": {},
   "outputs": [
    {
     "name": "stdout",
     "output_type": "stream",
     "text": [
      "(x**2 - 2*x + 3)/y\n"
     ]
    }
   ],
   "source": [
    "import sympy as sp # Import the sympy library under the name 'sp'\n",
    "\n",
    "x, y = sp.symbols('x y');\n",
    "f = (x**2 - 2*x + 3)/y;\n",
    "print(f);"
   ]
  },
  {
   "cell_type": "code",
   "execution_count": 8,
   "metadata": {},
   "outputs": [
    {
     "name": "stdout",
     "output_type": "stream",
     "text": [
      "(x**2 - 2*x + 3)/y\n"
     ]
    },
    {
     "data": {
      "image/png": "[encoded data removed]",
      "text/latex": [
       "$\\displaystyle \\frac{x^{2} - 2 x + 3}{y}$"
      ],
      "text/plain": [
       " 2          \n",
       "x  - 2⋅x + 3\n",
       "────────────\n",
       "     y      "
      ]
     },
     "metadata": {},
     "output_type": "display_data"
    }
   ],
   "source": [
    "# Pro-tip: you can make your outputs look good with LaTeX:\n",
    "from IPython.display import display \n",
    "sp.init_printing() # Initialises pretty printing. Only needs to be run once!\n",
    "\n",
    "# Behold:\n",
    "print(f) # Ugly mode\n",
    "display(f) # Fancy-pants mode"
   ]
  },
  {
   "cell_type": "markdown",
   "metadata": {},
   "source": [
    "Note that `f` here is a symbol representing a function.  It would be nice if the notation made it explicit that it's actually a function of $x$ and $y$, namely `f(x,y)`, but that's not how it works.  However, we can query the free variables:"
   ]
  },
  {
   "cell_type": "code",
   "execution_count": 9,
   "metadata": {},
   "outputs": [
    {
     "data": {
      "image/png": "[encoded data removed]",
      "text/latex": [
       "$\\displaystyle \\left\\{x, y\\right\\}$"
      ],
      "text/plain": [
       "{x, y}"
      ]
     },
     "execution_count": 9,
     "metadata": {},
     "output_type": "execute_result"
    }
   ],
   "source": [
    "f.free_symbols"
   ]
  },
  {
   "cell_type": "markdown",
   "metadata": {},
   "source": [
    "We can get sympy to find a symbolic expression for the partial derivative of $f(x,y)$ with respect to $y$ by using: "
   ]
  },
  {
   "cell_type": "code",
   "execution_count": 10,
   "metadata": {},
   "outputs": [
    {
     "data": {
      "image/png": "[encoded data removed]",
      "text/latex": [
       "$\\displaystyle - \\frac{x^{2} - 2 x + 3}{y^{2}}$"
      ],
      "text/plain": [
       " ⎛ 2          ⎞ \n",
       "-⎝x  - 2⋅x + 3⎠ \n",
       "────────────────\n",
       "        2       \n",
       "       y        "
      ]
     },
     "execution_count": 10,
     "metadata": {},
     "output_type": "execute_result"
    }
   ],
   "source": [
    "fpy = sp.diff(f, y)\n",
    "fpy"
   ]
  },
  {
   "cell_type": "markdown",
   "metadata": {},
   "source": [
    "To evaluate this derivative at some particular values $x=\\pi$ and $y=2$ we can substitute into the symbolic expression:"
   ]
  },
  {
   "cell_type": "code",
   "execution_count": 11,
   "metadata": {},
   "outputs": [
    {
     "data": {
      "image/png": "[encoded data removed]",
      "text/latex": [
       "$\\displaystyle - \\frac{\\pi^{2}}{4} - \\frac{3}{4} + \\frac{\\pi}{2}$"
      ],
      "text/plain": [
       "   2        \n",
       "  π    3   π\n",
       "- ── - ─ + ─\n",
       "  4    4   2"
      ]
     },
     "execution_count": 11,
     "metadata": {},
     "output_type": "execute_result"
    }
   ],
   "source": [
    "fpyv = fpy.subs([(x, sp.pi), (y, 2)])\n",
    "fpyv"
   ]
  },
  {
   "cell_type": "markdown",
   "metadata": {},
   "source": [
    "Notice though that this is still a symbolic expression.  It can be evaluated using the \"evalf\" method, which finally returns a number:"
   ]
  },
  {
   "cell_type": "code",
   "execution_count": 12,
   "metadata": {},
   "outputs": [
    {
     "data": {
      "image/png": "[encoded data removed]",
      "text/latex": [
       "$\\displaystyle -1.64660477347744$"
      ],
      "text/plain": [
       "-1.64660477347744"
      ]
     },
     "execution_count": 12,
     "metadata": {},
     "output_type": "execute_result"
    }
   ],
   "source": [
    "fpyv.evalf()"
   ]
  },
  {
   "cell_type": "markdown",
   "metadata": {},
   "source": [
    "### More advanced differentiation\n",
    "\n",
    "Symbolic expressions can be manipulated. For example, we can define $g(t) = f(x(t), y(t))$, which in this case (given above) means:\n",
    "$$g(t) = (x(t)^2-2x(t)+3)/y(t),$$\n",
    "and we can find its derivative with respect to time. I.e. $g$ is a function of time determined by $x$ and $y$, which are also functions of time."
   ]
  },
  {
   "cell_type": "code",
   "execution_count": 13,
   "metadata": {},
   "outputs": [
    {
     "data": {
      "image/png": "[encoded data removed]",
      "text/latex": [
       "$\\displaystyle \\frac{x^{2}{\\left(t \\right)} - 2 x{\\left(t \\right)} + 3}{y{\\left(t \\right)}}$"
      ],
      "text/plain": [
       " 2                \n",
       "x (t) - 2⋅x(t) + 3\n",
       "──────────────────\n",
       "       y(t)       "
      ]
     },
     "execution_count": 13,
     "metadata": {},
     "output_type": "execute_result"
    }
   ],
   "source": [
    "t = sp.symbols('t');\n",
    "xt = sp.Function(\"x\")(t);  # x(t)\n",
    "yt = sp.Function(\"y\")(t)  # y(t)\n",
    "\n",
    "g = f.subs([(x,xt),(y,yt)]); # Define g(t)\n",
    "gp = sp.diff(g,t); # Differentiate g(t) with respect to time\n",
    "g # Print g(t)"
   ]
  },
  {
   "cell_type": "code",
   "execution_count": 14,
   "metadata": {},
   "outputs": [
    {
     "data": {
      "image/png": "[encoded data removed]",
      "text/latex": [
       "$\\displaystyle \\frac{2 x{\\left(t \\right)} \\frac{d}{d t} x{\\left(t \\right)} - 2 \\frac{d}{d t} x{\\left(t \\right)}}{y{\\left(t \\right)}} - \\frac{\\left(x^{2}{\\left(t \\right)} - 2 x{\\left(t \\right)} + 3\\right) \\frac{d}{d t} y{\\left(t \\right)}}{y^{2}{\\left(t \\right)}}$"
      ],
      "text/plain": [
       "       d            d          ⎛ 2                ⎞ d       \n",
       "2⋅x(t)⋅──(x(t)) - 2⋅──(x(t))   ⎝x (t) - 2⋅x(t) + 3⎠⋅──(y(t))\n",
       "       dt           dt                              dt      \n",
       "──────────────────────────── - ─────────────────────────────\n",
       "            y(t)                            2               \n",
       "                                           y (t)            "
      ]
     },
     "execution_count": 14,
     "metadata": {},
     "output_type": "execute_result"
    }
   ],
   "source": [
    "gp # Print g'(t)"
   ]
  },
  {
   "cell_type": "markdown",
   "metadata": {},
   "source": [
    "### Plotting symbolic functions\n",
    "\n",
    "The sympy module also has a `plot` method that knows how to plot symbolic functions of a single variable.  The function `g` above with $x(t) = \\sin(t)$ and $y(t) = \\cos(2t)$ is a function of a single time variable `t`, and can be visualised as follows:"
   ]
  },
  {
   "cell_type": "code",
   "execution_count": 15,
   "metadata": {
    "scrolled": true
   },
   "outputs": [
    {
     "data": {
      "image/png": "[encoded data removed]",
      "text/latex": [
       "$\\displaystyle \\frac{\\sin^{2}{\\left(t \\right)} - 2 \\sin{\\left(t \\right)} + 3}{\\cos{\\left(2 t \\right)}}$"
      ],
      "text/plain": [
       "   2                  \n",
       "sin (t) - 2⋅sin(t) + 3\n",
       "──────────────────────\n",
       "       cos(2⋅t)       "
      ]
     },
     "execution_count": 15,
     "metadata": {},
     "output_type": "execute_result"
    }
   ],
   "source": [
    "gs = g.subs([(xt,sp.sin(t)), (yt,sp.cos(2*t))]); # Create function gs(t)\n",
    "gs"
   ]
  },
  {
   "cell_type": "code",
   "execution_count": 16,
   "metadata": {},
   "outputs": [
    {
     "data": {
      "image/png": "[encoded data removed]",
      "text/plain": [
       "<Figure size 384x288 with 1 Axes>"
      ]
     },
     "metadata": {},
     "output_type": "display_data"
    }
   ],
   "source": [
    "sp.plot(gs, (t,1,2), xlabel=\"t\", ylabel=\"gs(t)\"); # Plot gs vs t using sympy (t defined from t = 1 to t = 2)"
   ]
  },
  {
   "cell_type": "markdown",
   "metadata": {},
   "source": [
    "A roughly equivalent plot could be obtained numerically by creating a lambda function for the expression, evaluating it for a closely-spaced set of values of `t` over the required range, and using standard numerical plotting functions that draw straight lines between the calulated points.  If you increase the number of calculated points over the interval then the  approximation in the above graph becomes more accurate. You can think of a lambda function as just another way of defining a function, e.g. `f = x^2` is the same as `def my_func(x): x^2`."
   ]
  },
  {
   "cell_type": "code",
   "execution_count": 19,
   "metadata": {},
   "outputs": [
    {
     "data": {
      "image/png": "[encoded data removed]",
      "text/plain": [
       "<Figure size 384x288 with 1 Axes>"
      ]
     },
     "metadata": {},
     "output_type": "display_data"
    }
   ],
   "source": [
    "tv = np.linspace(1, 2, 10); # Axis between tv = 1 and tv = 2 for 10 steps\n",
    "gs_h = sp.lambdify(t, gs, modules=['numpy']);\n",
    "gstv = gs_h(tv);\n",
    "plt.figure(); # New figure\n",
    "plt.plot(tv, gstv);\n",
    "plt.show()"
   ]
  },
  {
   "cell_type": "markdown",
   "metadata": {},
   "source": [
    "### Symbolic integration\n",
    "\n",
    "Integration is also a standard function in sympy, so we can find for example the integral\n",
    "$$y(t) = \\int_{-10}^t x(\\lambda) d\\lambda$$\n",
    "for $x(t) = e^{-t/10} \\cos(t)$:"
   ]
  },
  {
   "cell_type": "code",
   "execution_count": 20,
   "metadata": {
    "scrolled": true
   },
   "outputs": [
    {
     "data": {
      "image/png": "[encoded data removed]",
      "text/latex": [
       "$\\displaystyle \\frac{100 e \\sin{\\left(10 \\right)}}{101} + \\frac{10 e \\cos{\\left(10 \\right)}}{101} + \\frac{100 e^{- \\frac{t}{10}} \\sin{\\left(t \\right)}}{101} - \\frac{10 e^{- \\frac{t}{10}} \\cos{\\left(t \\right)}}{101}$"
      ],
      "text/plain": [
       "                                    -t               -t        \n",
       "                                    ───              ───       \n",
       "                                    10               10        \n",
       "100⋅ℯ⋅sin(10)   10⋅ℯ⋅cos(10)   100⋅ℯ   ⋅sin(t)   10⋅ℯ   ⋅cos(t)\n",
       "───────────── + ──────────── + ─────────────── - ──────────────\n",
       "     101            101              101              101      "
      ]
     },
     "execution_count": 20,
     "metadata": {},
     "output_type": "execute_result"
    }
   ],
   "source": [
    "xt = sp.exp(-t/10)*sp.cos(t);  # x(t)\n",
    "lamb = sp.symbols('lamb');   # Dummy variable Lambda\n",
    "xl = xt.subs(t,lamb);  # x(lamb)\n",
    "yt = sp.integrate(xl, (lamb, -10, t));  # Indefinite integral that produces a function of t\n",
    "yt # Display y(t)"
   ]
  },
  {
   "cell_type": "markdown",
   "metadata": {},
   "source": [
    "NOTE: To get a definite integral over the range, say -10 to 0, you'd go `yt = sp.integrate(xl, (lamb, -10, 0))`. Also, don't forget about your initial conditions; the definite integral only gives the change in the variable over the\n",
    "interval, so you need to add its initial state to this value get the true final state. We'll usually assume initial rest conditions in this course, but NOT always."
   ]
  },
  {
   "cell_type": "markdown",
   "metadata": {},
   "source": [
    "Overall, the sympy plot function is quite fragile, and might not always work. Symbolic math packages are amazing, but they're difficult to implement and are sometimes not robust: you'll find various postings on the internet that give instances of very good symbolic math engines giving a wrong result. In short, they are useful but you should be careful when using them."
   ]
  },
  {
   "cell_type": "markdown",
   "metadata": {},
   "source": [
    "## Tasks\n",
    "\n",
    "These tasks involve writing code, or modifying existing code, to meet the objectives described.\n",
    "\n",
    "1.  We often need to plot complex-valued signals, where for each value of $t$ there is a real and an imaginary value, or a magnitude and a phase.  We therefore need two sets of axes.  Use the `subplot` functionality of `matplotlib.pyplot` to plot the real and imaginary parts of the signal $x(t) = e^{j \\omega_0 t}$ in a single figure, but on two separate axes.  Use a value of $\\omega_0 = 4$ and make the plot range over $t=0$ to $t=10$. (5 marks)<br><br>\n",
    "\n",
    "2.  Signal processing often involves recursion. This course concentrates on continuous-time signals, but equivalent processes can be applied in the digital (discrete) case. Consider the recursive equation $x[n] = -0.90 x[n-1]$.  Create a numpy array with 100 elements for each of the values $x[0]$ to $x[99]$, and write code to populate it (assuming the initial condition $x[0] = 10$).  Use `stem` to make a plot of $x[n]$ versus $n$ (discrete time) over the range calculated. (5 marks)<br><br>\n",
    "\n",
    "3.  Define the expression $y(t) = v_0 t - \\frac{1}{2} g t^2$ for some symbolic values of $v_0$ and $g$ using sympy.  You should recognise this as the \"altitude\" of a particle moving under the influence of gravity, given that the initial velocity at time $t=0$ is $v_0$.  Make a plot of the particle height in meters for $v_0 = 20 m/s$ given $g = 9.8 m/s^2$, over the range $t=0$ to $t=10$ s. (5 marks)<br><br>\n",
    "\n",
    "4.  Suppose the acceleration of a particle is given by $a(t) = 0.3 + \\cos(t)$ for positive time.  Use symbolic methods to find and plot the velocity $v(t)$ of the particle over the range $t=0$ to $t=5$ given the initial condition $v(0) = -0.2$.  Then find and plot the position $s(t)$ of the particle over the same time period, given the additional auxiliary condition $s(0) = 0.1$. (5 marks)"
   ]
  }
 ],
 "metadata": {
  "anaconda-cloud": {},
  "kernelspec": {
   "display_name": "Python 3 (ipykernel)",
   "language": "python",
   "name": "python3"
  },
  "language_info": {
   "codemirror_mode": {
    "name": "ipython",
    "version": 3
   },
   "file_extension": ".py",
   "mimetype": "text/x-python",
   "name": "python",
   "nbconvert_exporter": "python",
   "pygments_lexer": "ipython3",
   "version": "3.12.11"
  }
 },
 "nbformat": 4,
 "nbformat_minor": 4
}
