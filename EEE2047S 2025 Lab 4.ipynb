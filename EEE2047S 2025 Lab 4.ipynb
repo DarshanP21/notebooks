{
 "cells": [
  {
   "cell_type": "markdown",
   "id": "a2e076a4",
   "metadata": {},
   "source": [
    "# Lab 4: Reconstruction"
   ]
  },
  {
   "cell_type": "markdown",
   "id": "6b3b005d",
   "metadata": {},
   "source": [
    "## Introduction\n",
    "\n",
    "It's not obvious how to represent a continuous-time signal $x(t)$ in a way that can be manipulated by a computer.  The time index is real-valued, so even if we only care about the signal value over a finite interval there are infinitely many function values to consider and store.\n",
    "\n",
    "One approach is to assume that $x(t)$ varies slowly, and hope that sampling $x(t)$ at $t=nT$ for $n$ integer and $T$ small is sufficient to characterise the signal.  This leads to the discrete-time signal $x[n] = x(nT)$.  When this assumption is formalised and holds then the method works, and we use it a lot.  The first part of this workbook explores how a discrete signal $x[n]$ can be used to represent or parameterise a continuous-time $x(t)$.  Understanding this link and its limitations lets us process \"analog\" signals $x(t)$ using digital processing of the corresponding $x[n]$.  See https://en.wikipedia.org/wiki/Digital_signal_processing.\n",
    "\n",
    "A more general option is to represent the continuous-time signal $x(t)$ as a linear combination of a fixed set of known basis functions $b_n(t)$:\n",
    "$$x(t) = \\sum_{n=0}^{N-1} c_n b_n(t).$$\n",
    "Here the signal $x(t)$ is defined for all $t \\in \\mathbb{R}$, but as written it is completely specified by the finite and discrete set of values $c_n, n=0, \\ldots, N-1$.  Not every signal $x(t)$ can be written in this way, and those that can depends on the choice of functions $b_n(t)$.\n",
    "\n",
    "One simple example uses a polynomial basis with $b_n(t) = t^n$.  The signals parameters $c_n$ are then just the coefficients for each polynomial order.  Another is the cosine basis $b_n(t) = \\cos(n \\omega_0 t)$, which can represent all periodic even functions $x(t)$ if $N$ is large enough.  Instead of summing from $0$ to $N-1$ in the representation we might also have infinite bounds like $0$ to $\\infty$, or $-\\infty$ to $\\infty$.  Even then, the coefficients $c_n$ are still a countable set and can be carefully used to represent or process the continuous-time $x(t)$ that they represent.  The second part of this workbook explores this concept."
   ]
  },
  {
   "cell_type": "markdown",
   "id": "d7512601",
   "metadata": {},
   "source": [
    "## Reconstruction from discrete samples\n",
    "\n",
    "Suppose that $b_0(t)$ is an even function centered on the origin $t=0$, and for each $n$ the basis function $b_n(t)$ in the representation equation above is $b_0(t)$ shifted until it is centered on some point $t=nT$:  \n",
    "\n",
    "$$x(t) = \\sum_{n=0}^{N-1} c_n b_0(t-nT).$$\n",
    "This representation is particularly useful if we add the requirement\n",
    "$$b_0(t) = \\begin{cases}\n",
    "  1 \\qquad & t=0 \\\\\n",
    "  0 \\qquad & t=nT \\quad \\text{for integer $n$}.\n",
    "  \\end{cases}\n",
    "$$\n",
    "\n",
    "Suppose now that we have access to a discrete set of regular samples $x[n] = x(nT)$ from $x(t)$, and want to determine the corresponding coefficients $c_n$.  Note that:\n",
    "\n",
    "$$x(kT) = \\sum_{n=0}^{N-1} c_n b_0(kT-nT) = \\sum_{n=0}^{N-1} c_n b_0((k-n)T) = c_k.$$\n",
    "\n",
    "The last step above follows because $b_0((k-n)T)=1$ only if $k-n=0$, so all the terms in the sum are zero except one.  You could also note that $b_0((k-n)T) = \\delta(k-n)$ and use the sifting property.  Either way $x[k] = x(kT) = c_k$, and the expansion takes the form:\n",
    "\n",
    "$$x(t) = \\sum_{n=0}^{N-1} x[n] b_0(t-nT).$$\n",
    "\n",
    "We can view this as a reconstruction formula.  It takes as input the sample values in the form of a discrete signal $x[n]$ for integer $n$, and produces the interpolated or reconstructed continuous-time signal $x(t)$.  The nature of the reconstruction depends on the prototype basis function $b_0(t)$, and different choices lead to interpolation with different properties."
   ]
  },
  {
   "cell_type": "markdown",
   "id": "7ae77758",
   "metadata": {},
   "source": [
    "## Tasks"
   ]
  },
  {
   "cell_type": "markdown",
   "id": "33f13682",
   "metadata": {},
   "source": [
    "These tasks involve writing code, or modifying existing code, to meet the objectives described.\n",
    "\n",
    "1. Zero-order hold reconstruction:\n",
    "\n",
    "Suppose we have samples $x[n] = x(nT)$ of the signal\n",
    "\n",
    "$$x(t) = \\cos\\left( \\frac{t-5}{5} \\right) - \\cos\\left( \\frac{t-5}{5} \\right)^3$$\n",
    "\n",
    "for $n=0, \\ldots, N-1$, with $N=10$ and $T = 1.2$.  Consider the reconstruction equation\n",
    "\n",
    "$$x_r(t) = \\sum_{n=0}^{N-1} x[n] b_0(t-nT).$$\n",
    "\n",
    "On the same set of axes plot both $x(t)$ and $x_r(t)$ over the range $t = 0$ to $t=(N-1)T$ for various different interpolants. Do this by generating a vector `xvs` containing the sample values $x[0], \\ldots, x[N]$ for the values of $N$ and $T$ specified above; a vector `tvs` should then contain the corresponding time instants for the samples."
   ]
  },
  {
   "cell_type": "code",
   "execution_count": null,
   "id": "de51cf27",
   "metadata": {
    "scrolled": true,
    "tags": []
   },
   "outputs": [],
   "source": [
    "# Plot signal and sample values\n",
    "...\n",
    "plt.plot(tv,xv,'b-');\n",
    "plt.stem(tvs,xvs,'r.');"
   ]
  },
  {
   "cell_type": "markdown",
   "id": "15f99dac",
   "metadata": {},
   "source": [
    "In the code block below, define the required centered interpolation function $b_0(t)$ to use in the reconstruction formula.  It should take a vector of time values `tv` and return the corresponding interpolation values `b0v`.  In this instance we require $b_0(t) = p_T(t) = p_1(t/T)$, where $p_T(t)$ is the unit pulse of total width $T$ centered on the origin.  For your implementation you should ensure that $b_0(-T/2) = b_0(T/2) = 1$."
   ]
  },
  {
   "cell_type": "code",
   "execution_count": null,
   "id": "5118ed41",
   "metadata": {
    "tags": []
   },
   "outputs": [],
   "source": [
    "def b0v_values(tv,T):\n",
    "    ...\n",
    "    return b0v"
   ]
  },
  {
   "cell_type": "code",
   "execution_count": null,
   "id": "e49c1437",
   "metadata": {},
   "outputs": [],
   "source": [
    "# Plot reconstruction basis\n",
    "tvb = np.linspace(-T,T,1000)\n",
    "b0vb = b0v_values(tvb,T)\n",
    "plt.plot(tvb,b0vb,'r-');"
   ]
  },
  {
   "cell_type": "markdown",
   "id": "02d04477",
   "metadata": {},
   "source": [
    "The code block below should generate the reconstructed signal values at the given set of time instants `tv`, using the sample values `xvs` corresponding to sampling times `tvs`, and placing the result in the vector `xvr` of the same dimension as `tv`.  You should assume that the sampled signal values are zero outside of the range over which the samples were taken."
   ]
  },
  {
   "cell_type": "code",
   "execution_count": null,
   "id": "74555b7a",
   "metadata": {
    "tags": []
   },
   "outputs": [],
   "source": [
    "tv = np.linspace(0,(N-1)*T,4000);\n",
    "xvr = np.zeros(tv.shape)\n",
    "for i in range(0,len(xvs)):   \n",
    "    xvr = xvr + xvs[i]*b0v_values(tv - tvs[i],T)"
   ]
  },
  {
   "cell_type": "code",
   "execution_count": null,
   "id": "6995f998",
   "metadata": {},
   "outputs": [],
   "source": [
    "plt.plot(tv,xv,'b-',label='Actual signal');\n",
    "plt.stem(tvs,xvs,'r.',label='Sampled signal');\n",
    "plt.plot(tv,xvr,'g-',label='Reconstructed signal');\n",
    "plt.legend();"
   ]
  },
  {
   "cell_type": "markdown",
   "id": "c7a28476",
   "metadata": {},
   "source": [
    "***"
   ]
  },
  {
   "cell_type": "markdown",
   "id": "db1025ba",
   "metadata": {},
   "source": [
    "2. First-order hold reconstruction:\n",
    "\n",
    "Repeat the reconstruction process developed in the previous section, but with the reconstruction kernel\n",
    "\n",
    "$$\n",
    "b_1(t) = (1 - |t|/T) p_T(t).\n",
    "$$\n",
    "\n",
    "The code block below should exit with `xv1r` containing the values of the reconstructed signal at time instants `tv`."
   ]
  },
  {
   "cell_type": "code",
   "execution_count": null,
   "id": "5ed5ea2e",
   "metadata": {
    "tags": []
   },
   "outputs": [],
   "source": [
    "tv = np.linspace(0,(N-1)*T,4000);\n",
    "def b1v_values(tv,T):\n",
    "    ...\n",
    "    return b1v\n",
    "\n",
    "xv1r = np.zeros(tv.shape)\n",
    "for i in range(0,len(xvs)):   \n",
    "    xv1r = ...\n",
    "    \n",
    "# Plot reconstruction basis\n",
    "..."
   ]
  },
  {
   "cell_type": "code",
   "execution_count": null,
   "id": "9b782bb7",
   "metadata": {},
   "outputs": [],
   "source": [
    "# Plot signals\n",
    "..."
   ]
  }
 ],
 "metadata": {
  "kernelspec": {
   "display_name": "Python 3",
   "language": "python",
   "name": "python3"
  },
  "language_info": {
   "codemirror_mode": {
    "name": "ipython",
    "version": 3
   },
   "file_extension": ".py",
   "mimetype": "text/x-python",
   "name": "python",
   "nbconvert_exporter": "python",
   "pygments_lexer": "ipython3",
   "version": "3.8.8"
  },
  "otter": {
   "OK_FORMAT": true,
   "assignment_name": "reconstruct_q1",
   "tests": {
    "reconstruct_q1a": {
     "name": "reconstruct_q1a",
     "points": null,
     "suites": [
      {
       "cases": [
        {
         "code": ">>> assert len(tvs)==10 & len(xvs)==10\n",
         "failure_message": "vectors tv and xv do not have correct length",
         "hidden": false,
         "locked": false,
         "points": 1,
         "success_message": "vectors tv and xv have correct length"
        },
        {
         "code": ">>> tvsc = 1.2*np.arange(10)\n>>> assert np.all(np.abs(tvs-tvsc)<1e-6)\n",
         "failure_message": "vector tv does not have correct values",
         "hidden": false,
         "locked": false,
         "points": 1,
         "success_message": "vector tv has correct values"
        }
       ],
       "scored": true,
       "setup": "",
       "teardown": "",
       "type": "doctest"
      }
     ]
    },
    "reconstruct_q1b": {
     "name": "reconstruct_q1b",
     "points": null,
     "suites": [
      {
       "cases": [
        {
         "code": ">>> Tc = 1.5\n>>> tv0c = np.linspace(-Tc,Tc,2000)\n>>> b0vc = b0v_values(tv0c,Tc)\n>>> assert b0vc.shape==tv0c.shape\n",
         "failure_message": "output b0v does not have same shape as input tv0 for test case",
         "hidden": false,
         "locked": false,
         "points": 1,
         "success_message": "output b0v has same shape as input tv0 for test case"
        }
       ],
       "scored": true,
       "setup": "",
       "teardown": "",
       "type": "doctest"
      }
     ]
    },
    "reconstruct_q1c": {
     "name": "reconstruct_q1c",
     "points": null,
     "suites": [
      {
       "cases": [
        {
         "code": ">>> assert tv.shape==xvr.shape\n",
         "failure_message": "xvr does not have same shape as tv",
         "hidden": false,
         "locked": false,
         "points": 1,
         "success_message": "xvr has same shape as tv"
        },
        {
         "code": ">>> assert (np.abs(xvr[0]-xvs[0])<1e-5) & (np.abs(xvr[-1]-xvs[-1])<1e-5)\n",
         "failure_message": "xvr does not have correct start and end valuess",
         "hidden": false,
         "locked": false,
         "points": 1,
         "success_message": "xvr has correct start and end values"
        }
       ],
       "scored": true,
       "setup": "",
       "teardown": "",
       "type": "doctest"
      }
     ]
    },
    "reconstruct_q1d": {
     "name": "reconstruct_q1d",
     "points": null,
     "suites": [
      {
       "cases": [
        {
         "code": ">>> \n>>> def b1v_values_test(tv,T):\n...     b1v = 1 - np.abs(tv)/T\n...     b1v[b1v<0] = 0\n...     return b1v\n>>> \n>>> tvb = np.linspace(-2*T,2*T,1000)\n>>> b1vb = b1v_values(tvb,T)\n>>> b1vb_test = b1v_values_test(tvb,T)\n>>> assert np.max(np.abs(b1vb-b1vb_test))<1e-5\nTrue",
         "failure_message": "function b1v_values not returning correct values for test case",
         "hidden": false,
         "locked": false,
         "points": 1,
         "success_message": "function b1v_values returning correct values for test case"
        },
        {
         "code": ">>> assert xv1r.shape==tv.shape\n",
         "failure_message": "xv1r does not have same shape as tv",
         "hidden": false,
         "locked": false,
         "points": 1,
         "success_message": "xv1r has same shape as tv"
        },
        {
         "code": ">>> assert (np.abs(xv1r[0]-xvs[0])<1e-5) & (np.abs(xv1r[-1]-xvs[-1])<1e-5)\n",
         "failure_message": "xv1r does not have correct start and end valuess",
         "hidden": false,
         "locked": false,
         "points": 1,
         "success_message": "xv1r has correct start and end values"
        }
       ],
       "scored": true,
       "setup": "",
       "teardown": "",
       "type": "doctest"
      }
     ]
    }
   }
  }
 },
 "nbformat": 4,
 "nbformat_minor": 5
}
