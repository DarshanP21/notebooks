{
 "cells": [
  {
   "cell_type": "markdown",
   "metadata": {},
   "source": [
    "# Differential equations (symbolic)"
   ]
  },
  {
   "cell_type": "markdown",
   "metadata": {},
   "source": [
    "This workbook uses symbolic computation to investigate the solutions of linear differential equations."
   ]
  },
  {
   "cell_type": "markdown",
   "metadata": {},
   "source": [
    "## First-order system\n",
    "\n",
    "We consider a system governed by the differential equation\n",
    "$$y(t) + RC \\frac{dy(t)}{dt} = x(t)$$\n",
    "where $x(t)$ is the input and $y(t)$ the output.  We want to find the step response of this system, or in other words the output of the system when the input is the unit step $x(t) = u(t)$."
   ]
  },
  {
   "cell_type": "markdown",
   "metadata": {},
   "source": [
    "## Basic code functionality\n",
    "\n",
    "The cell below sets up the environment for symbolic computation.  The rest sets up the `display` function for a symbolic expression to make pretty output."
   ]
  },
  {
   "cell_type": "code",
   "execution_count": 7,
   "metadata": {
    "collapsed": true
   },
   "outputs": [],
   "source": [
    "import sympy as sp\n",
    "from IPython.display import display\n",
    "sp.init_printing()  # pretty printing"
   ]
  },
  {
   "cell_type": "markdown",
   "metadata": {},
   "source": [
    "We define `imp` as the Dirac delta or unit impulse $\\delta(t)$, and `ustep` as the unit (or Heaviside) step function.  When the unit step is differentiated we get the unit impulse.  "
   ]
  },
  {
   "cell_type": "code",
   "execution_count": 8,
   "metadata": {},
   "outputs": [
    {
     "data": {
      "image/png": "[encoded data removed]",
      "text/latex": [
       "$$\\theta\\left(t\\right)$$"
      ],
      "text/plain": [
       "Heaviside(t)"
      ]
     },
     "metadata": {},
     "output_type": "display_data"
    },
    {
     "data": {
      "image/png": "[encoded data removed]",
      "text/latex": [
       "$$\\delta\\left(t\\right)$$"
      ],
      "text/plain": [
       "DiracDelta(t)"
      ]
     },
     "metadata": {},
     "output_type": "display_data"
    }
   ],
   "source": [
    "# Define impulse and unit step as functions of t\n",
    "t = sp.symbols('t');\n",
    "imp = sp.DiracDelta(t);\n",
    "ustep = sp.Heaviside(t);\n",
    "#ustep = sp.Piecewise( (0, t<1), (1, True));  # diff() doesn't give delta function?!\n",
    "\n",
    "# Derivative of step is impulse\n",
    "display(ustep);\n",
    "display(sp.diff(ustep, t));  # derivative is dirac delta\n",
    "#sp.plot(ustep, (t,-4,4));  # sympy plot() not numpy plot()!"
   ]
  },
  {
   "cell_type": "markdown",
   "metadata": {},
   "source": [
    "The next block sets up variables and defines the differential equation.  The `print` function on the symbolic expression gives the code representation of the relation, while `display` renders the result in a human friendly form."
   ]
  },
  {
   "cell_type": "code",
   "execution_count": 9,
   "metadata": {},
   "outputs": [
    {
     "name": "stdout",
     "output_type": "stream",
     "text": [
      "Eq(RC*Derivative(y(t), t) + y(t), x(t))\n"
     ]
    },
    {
     "data": {
      "image/png": "[encoded data removed]",
      "text/latex": [
       "$$RC \\frac{d}{d t} y{\\left (t \\right )} + y{\\left (t \\right )} = x{\\left (t \\right )}$$"
      ],
      "text/plain": [
       "   d                     \n",
       "RC⋅──(y(t)) + y(t) = x(t)\n",
       "   dt                    "
      ]
     },
     "metadata": {},
     "output_type": "display_data"
    }
   ],
   "source": [
    "# Setup differential equation\n",
    "x = sp.Function('x');  y = sp.Function('y');\n",
    "RC = sp.symbols('RC');#, real=True);\n",
    "lp1de = sp.Eq(y(t) + RC*sp.diff(y(t), t), x(t));\n",
    "\n",
    "print(lp1de);  display(lp1de);"
   ]
  },
  {
   "cell_type": "markdown",
   "metadata": {},
   "source": [
    "We can solve the differential equation for $y(t)$.  Note the result has an undetermined symbolic constant $C_1$ in the expression.  We will need to set its value based on an auxiliary constraint."
   ]
  },
  {
   "cell_type": "code",
   "execution_count": 10,
   "metadata": {},
   "outputs": [
    {
     "data": {
      "image/png": "[encoded data removed]",
      "text/latex": [
       "$$y{\\left (t \\right )} = \\left(C_{1} + \\frac{1}{RC} \\int x{\\left (t \\right )} e^{\\frac{t}{RC}}\\, dt\\right) e^{- \\frac{t}{RC}}$$"
      ],
      "text/plain": [
       "       ⎛     ⌠            ⎞     \n",
       "       ⎜     ⎮       t    ⎟     \n",
       "       ⎜     ⎮       ──   ⎟     \n",
       "       ⎜     ⎮       RC   ⎟  -t \n",
       "       ⎜     ⎮ x(t)⋅ℯ   dt⎟  ───\n",
       "       ⎜     ⌡            ⎟   RC\n",
       "y(t) = ⎜C₁ + ─────────────⎟⋅ℯ   \n",
       "       ⎝           RC     ⎠     "
      ]
     },
     "metadata": {},
     "output_type": "display_data"
    }
   ],
   "source": [
    "# Generic solution\n",
    "y_sl0e = sp.dsolve(lp1de, y(t));\n",
    "y_sl0r = y_sl0e.rhs  # take only right hand side\n",
    "\n",
    "display(y_sl0e);  #display(y_sl0r);"
   ]
  },
  {
   "cell_type": "markdown",
   "metadata": {},
   "source": [
    "To use the symbolic expresion above requirest specifying the value $C_1$.  The code below defines an equation for the initial value constraint of the form $y(-1) = a_0$, where $a_0$ is a symbolic variable."
   ]
  },
  {
   "cell_type": "code",
   "execution_count": 11,
   "metadata": {},
   "outputs": [
    {
     "name": "stdout",
     "output_type": "stream",
     "text": [
      "Eq((C1 + Integral(x(t)*exp(t/RC), (t, -1))/RC)*exp(1/RC), a0)\n"
     ]
    },
    {
     "data": {
      "image/png": "[encoded data removed]",
      "text/latex": [
       "$$\\left(C_{1} + \\frac{1}{RC} \\int^{-1} x{\\left (t \\right )} e^{\\frac{t}{RC}}\\, dt\\right) e^{\\frac{1}{RC}} = a_{0}$$"
      ],
      "text/plain": [
       "⎛     -1            ⎞         \n",
       "⎜     ⌠             ⎟         \n",
       "⎜     ⎮        t    ⎟         \n",
       "⎜     ⎮        ──   ⎟         \n",
       "⎜     ⎮        RC   ⎟         \n",
       "⎜     ⎮  x(t)⋅ℯ   dt⎟  1      \n",
       "⎜     ⌡             ⎟  ──     \n",
       "⎜                   ⎟  RC     \n",
       "⎜C₁ + ──────────────⎟⋅ℯ   = a₀\n",
       "⎝           RC      ⎠         "
      ]
     },
     "metadata": {},
     "output_type": "display_data"
    }
   ],
   "source": [
    "# Initial condition\n",
    "a0 = sp.symbols('a0');\n",
    "cnd1 = sp.Eq(y_sl0r.subs(t, -1), a0);  # y(-1) = a0\n",
    "#cnd2 = sy.Eq(y_sl0.diff(t).subs(t, 0), b0)  # y'(0) = b0\n",
    "\n",
    "print(cnd1);  display(cnd1);"
   ]
  },
  {
   "cell_type": "markdown",
   "metadata": {},
   "source": [
    "We want to solve the above expression for $C_1$ so that we can substitute back into our generic solution.  The result is returned in a form useful later."
   ]
  },
  {
   "cell_type": "code",
   "execution_count": 12,
   "metadata": {},
   "outputs": [
    {
     "name": "stdout",
     "output_type": "stream",
     "text": [
      "{C1: a0*exp(-1/RC) - Integral(x(t)*exp(t/RC), (t, -1))/RC}\n"
     ]
    },
    {
     "data": {
      "image/png": "[encoded data removed]",
      "text/latex": [
       "$$\\left \\{ C_{1} : a_{0} e^{- \\frac{1}{RC}} - \\frac{1}{RC} \\int^{-1} x{\\left (t \\right )} e^{\\frac{t}{RC}}\\, dt\\right \\}$$"
      ],
      "text/plain": [
       "⎧              -1            ⎫\n",
       "⎪              ⌠             ⎪\n",
       "⎪              ⎮        t    ⎪\n",
       "⎪              ⎮        ──   ⎪\n",
       "⎪              ⎮        RC   ⎪\n",
       "⎨        -1    ⎮  x(t)⋅ℯ   dt⎬\n",
       "⎪        ───   ⌡             ⎪\n",
       "⎪         RC                 ⎪\n",
       "⎪C₁: a₀⋅ℯ    - ──────────────⎪\n",
       "⎪                    RC      ⎪\n",
       "⎩                            ⎭"
      ]
     },
     "metadata": {},
     "output_type": "display_data"
    }
   ],
   "source": [
    "# Solve for C1:  magic brackets in solve() returns result as dictionary\n",
    "C1 = sp.symbols('C1')  # generic constants\n",
    "C1_sl = sp.solve([cnd1], (C1))\n",
    "\n",
    "print(C1_sl);  display(C1_sl);"
   ]
  },
  {
   "cell_type": "markdown",
   "metadata": {},
   "source": [
    "Substituting the expression obtained into the generic solution gives the solution expressed in terms of the initial value $a_0$ based on the constraint $y(-1) = a_0$."
   ]
  },
  {
   "cell_type": "code",
   "execution_count": 13,
   "metadata": {},
   "outputs": [
    {
     "data": {
      "image/png": "[encoded data removed]",
      "text/latex": [
       "$$y{\\left (t \\right )} = \\left(a_{0} e^{- \\frac{1}{RC}} + \\frac{1}{RC} \\int x{\\left (t \\right )} e^{\\frac{t}{RC}}\\, dt - \\frac{1}{RC} \\int^{-1} x{\\left (t \\right )} e^{\\frac{t}{RC}}\\, dt\\right) e^{- \\frac{t}{RC}}$$"
      ],
      "text/plain": [
       "       ⎛                          -1            ⎞     \n",
       "       ⎜                          ⌠             ⎟     \n",
       "       ⎜          ⌠               ⎮        t    ⎟     \n",
       "       ⎜          ⎮       t       ⎮        ──   ⎟     \n",
       "       ⎜          ⎮       ──      ⎮        RC   ⎟     \n",
       "       ⎜    -1    ⎮       RC      ⎮  x(t)⋅ℯ   dt⎟  -t \n",
       "       ⎜    ───   ⎮ x(t)⋅ℯ   dt   ⌡             ⎟  ───\n",
       "       ⎜     RC   ⌡                             ⎟   RC\n",
       "y(t) = ⎜a₀⋅ℯ    + ───────────── - ──────────────⎟⋅ℯ   \n",
       "       ⎝                RC              RC      ⎠     "
      ]
     },
     "metadata": {},
     "output_type": "display_data"
    }
   ],
   "source": [
    "# Substitute back for solution in terms of a0\n",
    "y_sl1 = y_sl0r.subs(C1_sl);\n",
    "\n",
    "display(sp.Eq(y(t), y_sl1))"
   ]
  },
  {
   "cell_type": "markdown",
   "metadata": {},
   "source": [
    "At this stage we're ready to substitute values and evaluate.  This problem specified requires the step response, where the onset of the step occurs at $t=0$.  We consider the case where the system was quiet before the step arrived, or an *initial rest* condition, so that $y(t)=0$ for $t<0$.  This constraint meanst hat $y(-1) = 0$, so specifying $a_0=0$ for the constraint equation is appropriate.  A value of $RC = 1$ is also assumed."
   ]
  },
  {
   "cell_type": "code",
   "execution_count": 14,
   "metadata": {},
   "outputs": [
    {
     "data": {
      "image/png": "[encoded data removed]",
      "text/latex": [
       "$$y{\\left (t \\right )} = \\left(\\int x{\\left (t \\right )} e^{t}\\, dt - \\int^{-1} x{\\left (t \\right )} e^{t}\\, dt\\right) e^{- t}$$"
      ],
      "text/plain": [
       "       ⎛               -1           ⎞    \n",
       "       ⎜⌠              ⌠            ⎟    \n",
       "       ⎜⎮       t      ⎮        t   ⎟  -t\n",
       "y(t) = ⎜⎮ x(t)⋅ℯ  dt - ⎮  x(t)⋅ℯ  dt⎟⋅ℯ  \n",
       "       ⎜⌡              ⌡            ⎟    \n",
       "       ⎝                            ⎠    "
      ]
     },
     "metadata": {},
     "output_type": "display_data"
    }
   ],
   "source": [
    "# Set values for constants\n",
    "y_sl1s = y_sl1.subs({RC:1,a0:0}).doit()\n",
    "\n",
    "display(sp.Eq(y(t), y_sl1s))"
   ]
  },
  {
   "cell_type": "markdown",
   "metadata": {},
   "source": [
    "Finally we can make the substitution $x(t) = u(t)$ and evaluate the result.  This provides the output of the system when the input is the unit step, and is thus the required step response."
   ]
  },
  {
   "cell_type": "code",
   "execution_count": 22,
   "metadata": {},
   "outputs": [
    {
     "name": "stdout",
     "output_type": "stream",
     "text": [
      "Eq(y(t), (exp(t) - 1)*exp(-t)*Heaviside(t))\n"
     ]
    },
    {
     "data": {
      "image/png": "[encoded data removed]",
      "text/latex": [
       "$$y{\\left (t \\right )} = \\left(e^{t} - 1\\right) e^{- t} \\theta\\left(t\\right)$$"
      ],
      "text/plain": [
       "       ⎛ t    ⎞  -t             \n",
       "y(t) = ⎝ℯ  - 1⎠⋅ℯ  ⋅Heaviside(t)"
      ]
     },
     "metadata": {},
     "output_type": "display_data"
    },
    {
     "data": {
      "image/png": "[encoded data removed]",
      "text/plain": [
       "<matplotlib.figure.Figure at 0x11a446ac8>"
      ]
     },
     "metadata": {},
     "output_type": "display_data"
    },
    {
     "data": {
      "text/plain": [
       "<sympy.plotting.plot.Plot at 0x11a4320b8>"
      ]
     },
     "execution_count": 22,
     "metadata": {},
     "output_type": "execute_result"
    }
   ],
   "source": [
    "# Set input function and solve\n",
    "y_sl1sx = y_sl1s.subs({x(t):ustep}).doit()\n",
    "\n",
    "print(sp.Eq(y(t), y_sl1sx));  display(sp.Eq(y(t), y_sl1sx))\n",
    "sp.plot(y_sl1sx, (t,-4,8))"
   ]
  },
  {
   "cell_type": "markdown",
   "metadata": {},
   "source": [
    "## Code\n",
    "\n",
    "The script below combines all the steps above to find and plot the step response."
   ]
  },
  {
   "cell_type": "code",
   "execution_count": 1,
   "metadata": {
    "collapsed": true
   },
   "outputs": [],
   "source": [
    "%run src/labX_preamble.py  # For internal notebook functions"
   ]
  },
  {
   "cell_type": "code",
   "execution_count": 2,
   "metadata": {},
   "outputs": [
    {
     "name": "stdout",
     "output_type": "stream",
     "text": [
      "Eq(y(t), (exp(t) - 1)*exp(-t)*Heaviside(t))\n"
     ]
    },
    {
     "data": {
      "image/png": "[encoded data removed]",
      "text/latex": [
       "$$y{\\left (t \\right )} = \\left(e^{t} - 1\\right) e^{- t} \\theta\\left(t\\right)$$"
      ],
      "text/plain": [
       "       ⎛ t    ⎞  -t             \n",
       "y(t) = ⎝ℯ  - 1⎠⋅ℯ  ⋅Heaviside(t)"
      ]
     },
     "metadata": {},
     "output_type": "display_data"
    },
    {
     "data": {
      "image/png": "[encoded data removed]",
      "text/plain": [
       "<matplotlib.figure.Figure at 0x109fb4390>"
      ]
     },
     "metadata": {},
     "output_type": "display_data"
    },
    {
     "data": {
      "text/plain": [
       "<sympy.plotting.plot.Plot at 0x109fb49b0>"
      ]
     },
     "execution_count": 2,
     "metadata": {},
     "output_type": "execute_result"
    }
   ],
   "source": [
    "%%writefileexec src/lab_symdiffeq-1.py -s  # dump cell to file before execute\n",
    "\n",
    "import sympy as sp\n",
    "from IPython.display import display\n",
    "sp.init_printing()  # pretty printing\n",
    "\n",
    "# Define impulse and unit step as functions of t\n",
    "t = sp.symbols('t');\n",
    "imp = sp.DiracDelta(t);\n",
    "ustep = sp.Heaviside(t);\n",
    "#ustep = sp.Piecewise( (0, t<1), (1, True));  # diff() doesn't give delta function?!\n",
    "\n",
    "# Setup differential equation\n",
    "x = sp.Function('x');  y = sp.Function('y');\n",
    "RC = sp.symbols('RC');#, real=True);\n",
    "lp1de = sp.Eq(y(t) + RC*sp.diff(y(t), t), x(t));\n",
    "#print(lp1de);  display(lp1de);\n",
    "\n",
    "# Generic solution\n",
    "y_sl0e = sp.dsolve(lp1de, y(t));\n",
    "y_sl0r = y_sl0e.rhs  # take only right hand side\n",
    "#print(y_sl0e);  display(y_sl0e);\n",
    "\n",
    "# Initial condition\n",
    "a0 = sp.symbols('a0');\n",
    "cnd1 = sp.Eq(y_sl0r.subs(t, -1), a0);  # y(-1) = a0\n",
    "#cnd2 = sp.Eq(y_sl0r.diff(t).subs(t, -1), b0)  # y'(-1) = b0\n",
    "#print(cnd1);  display(cnd1);\n",
    "\n",
    "# Solve for C1:  magic brackets in solve() returns result as dictionary\n",
    "C1 = sp.symbols('C1')  # generic constants\n",
    "C1_sl = sp.solve([cnd1], (C1))\n",
    "#C1C2_sl = sp.solve([cnd1, cnd2], (C1, C2))\n",
    "#print(C1_sl);  display(C1_sl);\n",
    "\n",
    "# Substitute back for solution in terms of a0\n",
    "y_sl1 = y_sl0r.subs(C1_sl);\n",
    "#print(sp.Eq(y(t), y_sl1));  display(sp.Eq(y(t), y_sl1));\n",
    "\n",
    "# Set values for constants\n",
    "y_sl1s = y_sl1.subs({RC:1,a0:0}).doit()\n",
    "#print(sp.Eq(y(t), y_sl1s));  display(sp.Eq(y(t), y_sl1s));\n",
    "\n",
    "# Set input function and solve\n",
    "y_sl1sx = y_sl1s.subs({x(t):ustep}).doit()\n",
    "print(sp.Eq(y(t), y_sl1sx));  display(sp.Eq(y(t), y_sl1sx))\n",
    "\n",
    "# Plot output\n",
    "sp.plot(y_sl1sx, (t,-4,8))"
   ]
  },
  {
   "cell_type": "markdown",
   "metadata": {},
   "source": [
    "# Tasks\n",
    "\n",
    "These tasks involve writing code, or modifying existing code, to meet the objectives described.\n",
    "\n",
    "1.  Find and plot the impulse responses of the first-order lowpass circuit for $RC = 1, 2, 4$ on the same set of axes and over the range $-4$ to 12.<br>\n",
    "<br>\n",
    "You should observe that the system reaches $1/e \\approx 0.368$ of its initial value after time $\\tau = RC$ has passed.  This is called the *time constant* or sometimes the *RC time constant*$ of the circuit.  A long time constant means that the circuit is slow to respond to changes, and involves a higher degree of lowpass filtering.<br><br>\n",
    "\n",
    "2.  Any linear constant coefficient differential equation corresponds to a linear time invariant system.  Thus \n",
    "$$y(t) - 0.1 \\frac{dy(t)}{dt} = x(t)$$\n",
    "is a valid system.  It happens to correspond to a value of $RC=-0.1$ in the formulation above, so all the mathematics applies, although the system cannot be implemented with any real resistor and capacitor combination.  Find the step response of this system under initial rest conditions, and plot it over the range $t=-4$ to $t=12$.<br>\n",
    "<br>\n",
    "In this case the differential equation corresponds to an unstable system:  a bounded input can produce an unbounded output.<br><br>\n",
    "\n",
    "3.  The RLC circuit \n",
    "![](figures/circuitlrc.png)\n",
    "is governed by the second-order differential equation \n",
    "$$y(t) + \\frac{L}{R} y'(t) + LC y''(t) = \\frac{L}{R} x'(t).$$\n",
    "On the same set of axes find and plot the step responses of the circuit over the range $t=-4$ to $t=12$ for $L=C=1$ and the cases $R=1/4$, $R=1/2$, and $R=1$.  Use the auxiliary condition $y(-1)=0$ as before, along with the additional condition $y'(-1)=0$.<br>\n",
    "<br>\n",
    "The quantity $\\omega_0 = 1/\\sqrt{LC}$ is the *resonant frequency* of the system and $\\alpha = 1/(2RC)$ is the *damping attenuation*.  The three cases above respectively correspond to $\\alpha>\\omega_0$ (overdamped), $\\alpha=\\omega_0$ (critically damped), and $\\alpha<\\omega_0$ (underdamped)."
   ]
  },
  {
   "cell_type": "code",
   "execution_count": null,
   "metadata": {
    "collapsed": true
   },
   "outputs": [],
   "source": []
  }
 ],
 "metadata": {
  "anaconda-cloud": {},
  "kernelspec": {
   "display_name": "Python 3",
   "language": "python",
   "name": "python3"
  },
  "language_info": {
   "codemirror_mode": {
    "name": "ipython",
    "version": 3
   },
   "file_extension": ".py",
   "mimetype": "text/x-python",
   "name": "python",
   "nbconvert_exporter": "python",
   "pygments_lexer": "ipython3",
   "version": "3.6.1"
  }
 },
 "nbformat": 4,
 "nbformat_minor": 1
}
